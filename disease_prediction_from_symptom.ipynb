{
 "cells": [
  {
   "cell_type": "markdown",
   "id": "bb150ba0",
   "metadata": {},
   "source": [
    "# import all necessary library"
   ]
  },
  {
   "cell_type": "code",
   "execution_count": 1,
   "id": "b0cf649a",
   "metadata": {},
   "outputs": [],
   "source": [
    "import numpy as np\n",
    "import pandas as pd\n",
    "import matplotlib.pyplot as plt\n",
    "import seaborn as sns\n",
    "\n"
   ]
  },
  {
   "cell_type": "markdown",
   "id": "d3161d73",
   "metadata": {},
   "source": [
    "# load the dataset"
   ]
  },
  {
   "cell_type": "code",
   "execution_count": 4,
   "id": "fbe95467",
   "metadata": {},
   "outputs": [],
   "source": [
    "main_dataset = pd.read_csv(f\"D:\\kiggle file\\Bodavan\\disease_prediction_from_symptom\\dataset.csv\")\n",
    "train_dataset = pd.read_csv(f\"D:\\kiggle file\\Bodavan\\disease_prediction_from_symptom\\Training.csv\")\n",
    "test_dataset = pd.read_csv(f\"D:\\kiggle file\\Bodavan\\disease_prediction_from_symptom\\Testing.csv\")"
   ]
  },
  {
   "cell_type": "markdown",
   "id": "e9f58e35",
   "metadata": {},
   "source": [
    "# let's explore the main dataset"
   ]
  },
  {
   "cell_type": "code",
   "execution_count": 6,
   "id": "e8d5733b",
   "metadata": {},
   "outputs": [
    {
     "data": {
      "text/html": [
       "<div>\n",
       "<style scoped>\n",
       "    .dataframe tbody tr th:only-of-type {\n",
       "        vertical-align: middle;\n",
       "    }\n",
       "\n",
       "    .dataframe tbody tr th {\n",
       "        vertical-align: top;\n",
       "    }\n",
       "\n",
       "    .dataframe thead th {\n",
       "        text-align: right;\n",
       "    }\n",
       "</style>\n",
       "<table border=\"1\" class=\"dataframe\">\n",
       "  <thead>\n",
       "    <tr style=\"text-align: right;\">\n",
       "      <th></th>\n",
       "      <th>Disease</th>\n",
       "      <th>Symptom_0</th>\n",
       "      <th>Symptom_1</th>\n",
       "      <th>Symptom_2</th>\n",
       "      <th>Symptom_3</th>\n",
       "      <th>Symptom_4</th>\n",
       "      <th>Symptom_5</th>\n",
       "      <th>Symptom_6</th>\n",
       "      <th>Symptom_7</th>\n",
       "      <th>Symptom_8</th>\n",
       "      <th>Symptom_9</th>\n",
       "      <th>Symptom_10</th>\n",
       "      <th>Symptom_11</th>\n",
       "      <th>Symptom_12</th>\n",
       "      <th>Symptom_13</th>\n",
       "      <th>Symptom_14</th>\n",
       "      <th>Symptom_15</th>\n",
       "      <th>Symptom_16</th>\n",
       "    </tr>\n",
       "  </thead>\n",
       "  <tbody>\n",
       "    <tr>\n",
       "      <th>0</th>\n",
       "      <td>AIDS</td>\n",
       "      <td>muscle_wasting</td>\n",
       "      <td>patches_in_throat</td>\n",
       "      <td>high_fever</td>\n",
       "      <td>extra_marital_contacts</td>\n",
       "      <td>NaN</td>\n",
       "      <td>NaN</td>\n",
       "      <td>NaN</td>\n",
       "      <td>NaN</td>\n",
       "      <td>NaN</td>\n",
       "      <td>NaN</td>\n",
       "      <td>NaN</td>\n",
       "      <td>NaN</td>\n",
       "      <td>NaN</td>\n",
       "      <td>NaN</td>\n",
       "      <td>NaN</td>\n",
       "      <td>NaN</td>\n",
       "      <td>NaN</td>\n",
       "    </tr>\n",
       "    <tr>\n",
       "      <th>1</th>\n",
       "      <td>AIDS</td>\n",
       "      <td>patches_in_throat</td>\n",
       "      <td>high_fever</td>\n",
       "      <td>extra_marital_contacts</td>\n",
       "      <td>NaN</td>\n",
       "      <td>NaN</td>\n",
       "      <td>NaN</td>\n",
       "      <td>NaN</td>\n",
       "      <td>NaN</td>\n",
       "      <td>NaN</td>\n",
       "      <td>NaN</td>\n",
       "      <td>NaN</td>\n",
       "      <td>NaN</td>\n",
       "      <td>NaN</td>\n",
       "      <td>NaN</td>\n",
       "      <td>NaN</td>\n",
       "      <td>NaN</td>\n",
       "      <td>NaN</td>\n",
       "    </tr>\n",
       "    <tr>\n",
       "      <th>2</th>\n",
       "      <td>AIDS</td>\n",
       "      <td>muscle_wasting</td>\n",
       "      <td>high_fever</td>\n",
       "      <td>extra_marital_contacts</td>\n",
       "      <td>NaN</td>\n",
       "      <td>NaN</td>\n",
       "      <td>NaN</td>\n",
       "      <td>NaN</td>\n",
       "      <td>NaN</td>\n",
       "      <td>NaN</td>\n",
       "      <td>NaN</td>\n",
       "      <td>NaN</td>\n",
       "      <td>NaN</td>\n",
       "      <td>NaN</td>\n",
       "      <td>NaN</td>\n",
       "      <td>NaN</td>\n",
       "      <td>NaN</td>\n",
       "      <td>NaN</td>\n",
       "    </tr>\n",
       "    <tr>\n",
       "      <th>3</th>\n",
       "      <td>AIDS</td>\n",
       "      <td>muscle_wasting</td>\n",
       "      <td>patches_in_throat</td>\n",
       "      <td>extra_marital_contacts</td>\n",
       "      <td>NaN</td>\n",
       "      <td>NaN</td>\n",
       "      <td>NaN</td>\n",
       "      <td>NaN</td>\n",
       "      <td>NaN</td>\n",
       "      <td>NaN</td>\n",
       "      <td>NaN</td>\n",
       "      <td>NaN</td>\n",
       "      <td>NaN</td>\n",
       "      <td>NaN</td>\n",
       "      <td>NaN</td>\n",
       "      <td>NaN</td>\n",
       "      <td>NaN</td>\n",
       "      <td>NaN</td>\n",
       "    </tr>\n",
       "    <tr>\n",
       "      <th>4</th>\n",
       "      <td>AIDS</td>\n",
       "      <td>muscle_wasting</td>\n",
       "      <td>patches_in_throat</td>\n",
       "      <td>high_fever</td>\n",
       "      <td>NaN</td>\n",
       "      <td>NaN</td>\n",
       "      <td>NaN</td>\n",
       "      <td>NaN</td>\n",
       "      <td>NaN</td>\n",
       "      <td>NaN</td>\n",
       "      <td>NaN</td>\n",
       "      <td>NaN</td>\n",
       "      <td>NaN</td>\n",
       "      <td>NaN</td>\n",
       "      <td>NaN</td>\n",
       "      <td>NaN</td>\n",
       "      <td>NaN</td>\n",
       "      <td>NaN</td>\n",
       "    </tr>\n",
       "    <tr>\n",
       "      <th>5</th>\n",
       "      <td>Acne</td>\n",
       "      <td>skin_rash</td>\n",
       "      <td>pus_filled_pimples</td>\n",
       "      <td>blackheads</td>\n",
       "      <td>scurrying</td>\n",
       "      <td>NaN</td>\n",
       "      <td>NaN</td>\n",
       "      <td>NaN</td>\n",
       "      <td>NaN</td>\n",
       "      <td>NaN</td>\n",
       "      <td>NaN</td>\n",
       "      <td>NaN</td>\n",
       "      <td>NaN</td>\n",
       "      <td>NaN</td>\n",
       "      <td>NaN</td>\n",
       "      <td>NaN</td>\n",
       "      <td>NaN</td>\n",
       "      <td>NaN</td>\n",
       "    </tr>\n",
       "    <tr>\n",
       "      <th>6</th>\n",
       "      <td>Acne</td>\n",
       "      <td>pus_filled_pimples</td>\n",
       "      <td>blackheads</td>\n",
       "      <td>scurrying</td>\n",
       "      <td>NaN</td>\n",
       "      <td>NaN</td>\n",
       "      <td>NaN</td>\n",
       "      <td>NaN</td>\n",
       "      <td>NaN</td>\n",
       "      <td>NaN</td>\n",
       "      <td>NaN</td>\n",
       "      <td>NaN</td>\n",
       "      <td>NaN</td>\n",
       "      <td>NaN</td>\n",
       "      <td>NaN</td>\n",
       "      <td>NaN</td>\n",
       "      <td>NaN</td>\n",
       "      <td>NaN</td>\n",
       "    </tr>\n",
       "    <tr>\n",
       "      <th>7</th>\n",
       "      <td>Acne</td>\n",
       "      <td>skin_rash</td>\n",
       "      <td>blackheads</td>\n",
       "      <td>scurrying</td>\n",
       "      <td>NaN</td>\n",
       "      <td>NaN</td>\n",
       "      <td>NaN</td>\n",
       "      <td>NaN</td>\n",
       "      <td>NaN</td>\n",
       "      <td>NaN</td>\n",
       "      <td>NaN</td>\n",
       "      <td>NaN</td>\n",
       "      <td>NaN</td>\n",
       "      <td>NaN</td>\n",
       "      <td>NaN</td>\n",
       "      <td>NaN</td>\n",
       "      <td>NaN</td>\n",
       "      <td>NaN</td>\n",
       "    </tr>\n",
       "    <tr>\n",
       "      <th>8</th>\n",
       "      <td>Acne</td>\n",
       "      <td>skin_rash</td>\n",
       "      <td>pus_filled_pimples</td>\n",
       "      <td>scurrying</td>\n",
       "      <td>NaN</td>\n",
       "      <td>NaN</td>\n",
       "      <td>NaN</td>\n",
       "      <td>NaN</td>\n",
       "      <td>NaN</td>\n",
       "      <td>NaN</td>\n",
       "      <td>NaN</td>\n",
       "      <td>NaN</td>\n",
       "      <td>NaN</td>\n",
       "      <td>NaN</td>\n",
       "      <td>NaN</td>\n",
       "      <td>NaN</td>\n",
       "      <td>NaN</td>\n",
       "      <td>NaN</td>\n",
       "    </tr>\n",
       "    <tr>\n",
       "      <th>9</th>\n",
       "      <td>Acne</td>\n",
       "      <td>skin_rash</td>\n",
       "      <td>pus_filled_pimples</td>\n",
       "      <td>blackheads</td>\n",
       "      <td>NaN</td>\n",
       "      <td>NaN</td>\n",
       "      <td>NaN</td>\n",
       "      <td>NaN</td>\n",
       "      <td>NaN</td>\n",
       "      <td>NaN</td>\n",
       "      <td>NaN</td>\n",
       "      <td>NaN</td>\n",
       "      <td>NaN</td>\n",
       "      <td>NaN</td>\n",
       "      <td>NaN</td>\n",
       "      <td>NaN</td>\n",
       "      <td>NaN</td>\n",
       "      <td>NaN</td>\n",
       "    </tr>\n",
       "  </tbody>\n",
       "</table>\n",
       "</div>"
      ],
      "text/plain": [
       "  Disease            Symptom_0            Symptom_1                Symptom_2  \\\n",
       "0    AIDS       muscle_wasting    patches_in_throat               high_fever   \n",
       "1    AIDS    patches_in_throat           high_fever   extra_marital_contacts   \n",
       "2    AIDS       muscle_wasting           high_fever   extra_marital_contacts   \n",
       "3    AIDS       muscle_wasting    patches_in_throat   extra_marital_contacts   \n",
       "4    AIDS       muscle_wasting    patches_in_throat               high_fever   \n",
       "5    Acne            skin_rash   pus_filled_pimples               blackheads   \n",
       "6    Acne   pus_filled_pimples           blackheads                scurrying   \n",
       "7    Acne            skin_rash           blackheads                scurrying   \n",
       "8    Acne            skin_rash   pus_filled_pimples                scurrying   \n",
       "9    Acne            skin_rash   pus_filled_pimples               blackheads   \n",
       "\n",
       "                 Symptom_3 Symptom_4 Symptom_5 Symptom_6 Symptom_7 Symptom_8  \\\n",
       "0   extra_marital_contacts       NaN       NaN       NaN       NaN       NaN   \n",
       "1                      NaN       NaN       NaN       NaN       NaN       NaN   \n",
       "2                      NaN       NaN       NaN       NaN       NaN       NaN   \n",
       "3                      NaN       NaN       NaN       NaN       NaN       NaN   \n",
       "4                      NaN       NaN       NaN       NaN       NaN       NaN   \n",
       "5                scurrying       NaN       NaN       NaN       NaN       NaN   \n",
       "6                      NaN       NaN       NaN       NaN       NaN       NaN   \n",
       "7                      NaN       NaN       NaN       NaN       NaN       NaN   \n",
       "8                      NaN       NaN       NaN       NaN       NaN       NaN   \n",
       "9                      NaN       NaN       NaN       NaN       NaN       NaN   \n",
       "\n",
       "  Symptom_9 Symptom_10 Symptom_11 Symptom_12 Symptom_13 Symptom_14 Symptom_15  \\\n",
       "0       NaN        NaN        NaN        NaN        NaN        NaN        NaN   \n",
       "1       NaN        NaN        NaN        NaN        NaN        NaN        NaN   \n",
       "2       NaN        NaN        NaN        NaN        NaN        NaN        NaN   \n",
       "3       NaN        NaN        NaN        NaN        NaN        NaN        NaN   \n",
       "4       NaN        NaN        NaN        NaN        NaN        NaN        NaN   \n",
       "5       NaN        NaN        NaN        NaN        NaN        NaN        NaN   \n",
       "6       NaN        NaN        NaN        NaN        NaN        NaN        NaN   \n",
       "7       NaN        NaN        NaN        NaN        NaN        NaN        NaN   \n",
       "8       NaN        NaN        NaN        NaN        NaN        NaN        NaN   \n",
       "9       NaN        NaN        NaN        NaN        NaN        NaN        NaN   \n",
       "\n",
       "  Symptom_16  \n",
       "0        NaN  \n",
       "1        NaN  \n",
       "2        NaN  \n",
       "3        NaN  \n",
       "4        NaN  \n",
       "5        NaN  \n",
       "6        NaN  \n",
       "7        NaN  \n",
       "8        NaN  \n",
       "9        NaN  "
      ]
     },
     "execution_count": 6,
     "metadata": {},
     "output_type": "execute_result"
    }
   ],
   "source": [
    "main_dataset.head(10)"
   ]
  },
  {
   "cell_type": "code",
   "execution_count": 8,
   "id": "e4354df8",
   "metadata": {},
   "outputs": [
    {
     "data": {
      "text/plain": [
       "array(['AIDS', 'Acne', 'Alcoholic hepatitis', 'Allergy', 'Arthritis',\n",
       "       'Bronchial Asthma', 'Cervical spondylosis', 'Chicken pox',\n",
       "       'Chronic cholestasis', 'Common Cold', 'Covid', 'Dengue',\n",
       "       'Diabetes ', 'Dimorphic hemorrhoids(piles)', 'Drug Reaction',\n",
       "       'Fungal infection', 'GERD', 'Gastroenteritis', 'Heart attack',\n",
       "       'Hepatitis A', 'Hepatitis B', 'Hepatitis C', 'Hepatitis D',\n",
       "       'Hepatitis E', 'Hypertension ', 'Hyperthyroidism', 'Hypoglycemia',\n",
       "       'Hypothyroidism', 'Impetigo', 'Jaundice', 'Malaria', 'Migraine',\n",
       "       'Osteoarthritis', 'Paralysis (brain hemorrhage)',\n",
       "       'Paroxysmal Positional Vertigo', 'Peptic ulcer disease',\n",
       "       'Pneumonia', 'Psoriasis', 'Tuberculosis', 'Typhoid',\n",
       "       'Urinary tract infection', 'Varicose veins'], dtype=object)"
      ]
     },
     "execution_count": 8,
     "metadata": {},
     "output_type": "execute_result"
    }
   ],
   "source": [
    "# type of all disease\n",
    "main_dataset.Disease.unique()"
   ]
  },
  {
   "cell_type": "code",
   "execution_count": 10,
   "id": "8a69a42e",
   "metadata": {},
   "outputs": [
    {
     "data": {
      "text/plain": [
       "42"
      ]
     },
     "execution_count": 10,
     "metadata": {},
     "output_type": "execute_result"
    }
   ],
   "source": [
    "# total number of disease\n",
    "main_dataset.Disease.nunique()"
   ]
  },
  {
   "cell_type": "code",
   "execution_count": 17,
   "id": "e670828e",
   "metadata": {},
   "outputs": [
    {
     "name": "stdout",
     "output_type": "stream",
     "text": [
      "Symptoms for AIDS:\n",
      "[' muscle_wasting', ' patches_in_throat', ' high_fever', ' extra_marital_contacts', ' patches_in_throat', ' high_fever', ' extra_marital_contacts', ' muscle_wasting', ' high_fever', ' extra_marital_contacts', ' muscle_wasting', ' patches_in_throat', ' extra_marital_contacts', ' muscle_wasting', ' patches_in_throat', ' high_fever']\n",
      "\n",
      "Symptoms for Acne:\n",
      "[' skin_rash', ' pus_filled_pimples', ' blackheads', ' scurrying', ' pus_filled_pimples', ' blackheads', ' scurrying', ' skin_rash', ' blackheads', ' scurrying', ' skin_rash', ' pus_filled_pimples', ' scurrying', ' skin_rash', ' pus_filled_pimples', ' blackheads']\n",
      "\n",
      "Symptoms for Chicken pox:\n",
      "['itching', ' skin_rash', ' fatigue', ' lethargy', ' high_fever', ' headache', ' loss_of_appetite', ' mild_fever', ' swelled_lymph_nodes', ' malaise', ' red_spots_over_body', 'itching', ' skin_rash', ' fatigue', ' lethargy', ' headache', ' loss_of_appetite', ' mild_fever', ' swelled_lymph_nodes', ' malaise', ' red_spots_over_body', 'itching', ' skin_rash', ' fatigue', ' lethargy', ' high_fever', ' loss_of_appetite', ' mild_fever', ' swelled_lymph_nodes', ' malaise', ' red_spots_over_body', 'itching', ' skin_rash', ' fatigue', ' lethargy', ' high_fever', ' headache', ' mild_fever', ' swelled_lymph_nodes', ' malaise', ' red_spots_over_body', 'itching', ' skin_rash', ' fatigue', ' lethargy', ' high_fever', ' headache', ' loss_of_appetite', ' mild_fever', ' malaise', ' red_spots_over_body', ' skin_rash', ' fatigue', ' lethargy', ' high_fever', ' headache', ' loss_of_appetite', ' mild_fever', ' swelled_lymph_nodes', ' malaise', ' red_spots_over_body', 'itching', ' skin_rash', ' fatigue', ' lethargy', ' high_fever', ' headache', ' loss_of_appetite', ' swelled_lymph_nodes', ' malaise', ' red_spots_over_body', 'itching', ' fatigue', ' lethargy', ' high_fever', ' headache', ' loss_of_appetite', ' mild_fever', ' swelled_lymph_nodes', ' malaise', ' red_spots_over_body', 'itching', ' skin_rash', ' lethargy', ' high_fever', ' headache', ' loss_of_appetite', ' mild_fever', ' swelled_lymph_nodes', ' malaise', ' red_spots_over_body', 'itching', ' skin_rash', ' fatigue', ' high_fever', ' headache', ' loss_of_appetite', ' mild_fever', ' swelled_lymph_nodes', ' malaise', ' red_spots_over_body']\n",
      "\n"
     ]
    }
   ],
   "source": [
    "# Define the diseases for which you want to find symptoms\n",
    "diseases = ['AIDS', 'Acne','Chicken pox']\n",
    "\n",
    "# Initialize a dictionary to store symptoms for each disease\n",
    "disease_symptoms = {}\n",
    "\n",
    "# Loop through each disease and find associated symptoms\n",
    "for disease in diseases:\n",
    "    symptoms = main_dataset[main_dataset['Disease'] == disease][main_dataset.columns[1:]].values.flatten()\n",
    "    symptoms = [symptom for symptom in symptoms if pd.notnull(symptom)]\n",
    "    disease_symptoms[disease] = symptoms\n",
    "\n",
    "# Print the symptoms for each disease\n",
    "for disease, symptoms in disease_symptoms.items():\n",
    "    print(f\"Symptoms for {disease}:\")\n",
    "    print(symptoms)\n",
    "    print()"
   ]
  },
  {
   "cell_type": "markdown",
   "id": "4a4ba1c8",
   "metadata": {},
   "source": [
    "# let's explore training dataset and define the problem"
   ]
  },
  {
   "cell_type": "code",
   "execution_count": 25,
   "id": "9c2bbb5f",
   "metadata": {},
   "outputs": [
    {
     "data": {
      "text/html": [
       "<div>\n",
       "<style scoped>\n",
       "    .dataframe tbody tr th:only-of-type {\n",
       "        vertical-align: middle;\n",
       "    }\n",
       "\n",
       "    .dataframe tbody tr th {\n",
       "        vertical-align: top;\n",
       "    }\n",
       "\n",
       "    .dataframe thead th {\n",
       "        text-align: right;\n",
       "    }\n",
       "</style>\n",
       "<table border=\"1\" class=\"dataframe\">\n",
       "  <thead>\n",
       "    <tr style=\"text-align: right;\">\n",
       "      <th></th>\n",
       "      <th>abdominal_pain</th>\n",
       "      <th>abnormal_menstruation</th>\n",
       "      <th>acidity</th>\n",
       "      <th>acute_liver_failure</th>\n",
       "      <th>altered_sensorium</th>\n",
       "      <th>anxiety</th>\n",
       "      <th>back_pain</th>\n",
       "      <th>belly_pain</th>\n",
       "      <th>blackheads</th>\n",
       "      <th>bladder_discomfort</th>\n",
       "      <th>...</th>\n",
       "      <th>watering_from_eyes</th>\n",
       "      <th>weakness_in_limbs</th>\n",
       "      <th>weakness_of_one_body_side</th>\n",
       "      <th>weight_gain</th>\n",
       "      <th>weight_loss</th>\n",
       "      <th>yellow_crust_ooze</th>\n",
       "      <th>yellow_urine</th>\n",
       "      <th>yellowing_of_eyes</th>\n",
       "      <th>yellowish_skin</th>\n",
       "      <th>prognosis</th>\n",
       "    </tr>\n",
       "  </thead>\n",
       "  <tbody>\n",
       "    <tr>\n",
       "      <th>0</th>\n",
       "      <td>0</td>\n",
       "      <td>0</td>\n",
       "      <td>0</td>\n",
       "      <td>0</td>\n",
       "      <td>0</td>\n",
       "      <td>0</td>\n",
       "      <td>0</td>\n",
       "      <td>0</td>\n",
       "      <td>0</td>\n",
       "      <td>0</td>\n",
       "      <td>...</td>\n",
       "      <td>0</td>\n",
       "      <td>0</td>\n",
       "      <td>0</td>\n",
       "      <td>0</td>\n",
       "      <td>0</td>\n",
       "      <td>0</td>\n",
       "      <td>0</td>\n",
       "      <td>0</td>\n",
       "      <td>0</td>\n",
       "      <td>AIDS</td>\n",
       "    </tr>\n",
       "    <tr>\n",
       "      <th>1</th>\n",
       "      <td>0</td>\n",
       "      <td>0</td>\n",
       "      <td>0</td>\n",
       "      <td>0</td>\n",
       "      <td>0</td>\n",
       "      <td>0</td>\n",
       "      <td>0</td>\n",
       "      <td>0</td>\n",
       "      <td>0</td>\n",
       "      <td>0</td>\n",
       "      <td>...</td>\n",
       "      <td>0</td>\n",
       "      <td>0</td>\n",
       "      <td>0</td>\n",
       "      <td>0</td>\n",
       "      <td>0</td>\n",
       "      <td>0</td>\n",
       "      <td>0</td>\n",
       "      <td>0</td>\n",
       "      <td>0</td>\n",
       "      <td>AIDS</td>\n",
       "    </tr>\n",
       "    <tr>\n",
       "      <th>2</th>\n",
       "      <td>0</td>\n",
       "      <td>0</td>\n",
       "      <td>0</td>\n",
       "      <td>0</td>\n",
       "      <td>0</td>\n",
       "      <td>0</td>\n",
       "      <td>0</td>\n",
       "      <td>0</td>\n",
       "      <td>0</td>\n",
       "      <td>0</td>\n",
       "      <td>...</td>\n",
       "      <td>0</td>\n",
       "      <td>0</td>\n",
       "      <td>0</td>\n",
       "      <td>0</td>\n",
       "      <td>0</td>\n",
       "      <td>0</td>\n",
       "      <td>0</td>\n",
       "      <td>0</td>\n",
       "      <td>0</td>\n",
       "      <td>AIDS</td>\n",
       "    </tr>\n",
       "    <tr>\n",
       "      <th>3</th>\n",
       "      <td>0</td>\n",
       "      <td>0</td>\n",
       "      <td>0</td>\n",
       "      <td>0</td>\n",
       "      <td>0</td>\n",
       "      <td>0</td>\n",
       "      <td>0</td>\n",
       "      <td>0</td>\n",
       "      <td>0</td>\n",
       "      <td>0</td>\n",
       "      <td>...</td>\n",
       "      <td>0</td>\n",
       "      <td>0</td>\n",
       "      <td>0</td>\n",
       "      <td>0</td>\n",
       "      <td>0</td>\n",
       "      <td>0</td>\n",
       "      <td>0</td>\n",
       "      <td>0</td>\n",
       "      <td>0</td>\n",
       "      <td>AIDS</td>\n",
       "    </tr>\n",
       "    <tr>\n",
       "      <th>4</th>\n",
       "      <td>0</td>\n",
       "      <td>0</td>\n",
       "      <td>0</td>\n",
       "      <td>0</td>\n",
       "      <td>0</td>\n",
       "      <td>0</td>\n",
       "      <td>0</td>\n",
       "      <td>0</td>\n",
       "      <td>0</td>\n",
       "      <td>0</td>\n",
       "      <td>...</td>\n",
       "      <td>0</td>\n",
       "      <td>0</td>\n",
       "      <td>0</td>\n",
       "      <td>0</td>\n",
       "      <td>0</td>\n",
       "      <td>0</td>\n",
       "      <td>0</td>\n",
       "      <td>0</td>\n",
       "      <td>0</td>\n",
       "      <td>AIDS</td>\n",
       "    </tr>\n",
       "  </tbody>\n",
       "</table>\n",
       "<p>5 rows × 135 columns</p>\n",
       "</div>"
      ],
      "text/plain": [
       "   abdominal_pain  abnormal_menstruation  acidity  acute_liver_failure  \\\n",
       "0               0                      0        0                    0   \n",
       "1               0                      0        0                    0   \n",
       "2               0                      0        0                    0   \n",
       "3               0                      0        0                    0   \n",
       "4               0                      0        0                    0   \n",
       "\n",
       "   altered_sensorium  anxiety  back_pain  belly_pain  blackheads  \\\n",
       "0                  0        0          0           0           0   \n",
       "1                  0        0          0           0           0   \n",
       "2                  0        0          0           0           0   \n",
       "3                  0        0          0           0           0   \n",
       "4                  0        0          0           0           0   \n",
       "\n",
       "   bladder_discomfort  ...  watering_from_eyes  weakness_in_limbs  \\\n",
       "0                   0  ...                   0                  0   \n",
       "1                   0  ...                   0                  0   \n",
       "2                   0  ...                   0                  0   \n",
       "3                   0  ...                   0                  0   \n",
       "4                   0  ...                   0                  0   \n",
       "\n",
       "   weakness_of_one_body_side  weight_gain  weight_loss  yellow_crust_ooze  \\\n",
       "0                          0            0            0                  0   \n",
       "1                          0            0            0                  0   \n",
       "2                          0            0            0                  0   \n",
       "3                          0            0            0                  0   \n",
       "4                          0            0            0                  0   \n",
       "\n",
       "   yellow_urine  yellowing_of_eyes  yellowish_skin  prognosis  \n",
       "0             0                  0               0       AIDS  \n",
       "1             0                  0               0       AIDS  \n",
       "2             0                  0               0       AIDS  \n",
       "3             0                  0               0       AIDS  \n",
       "4             0                  0               0       AIDS  \n",
       "\n",
       "[5 rows x 135 columns]"
      ]
     },
     "execution_count": 25,
     "metadata": {},
     "output_type": "execute_result"
    }
   ],
   "source": [
    "# training dataset\n",
    "train_dataset.head()"
   ]
  },
  {
   "cell_type": "code",
   "execution_count": null,
   "id": "23db1573",
   "metadata": {},
   "outputs": [],
   "source": []
  },
  {
   "cell_type": "markdown",
   "id": "c3fed94e",
   "metadata": {},
   "source": [
    "# problem define - it is multi-class classification problem\n",
    "\n",
    "- Multi-class classification is  where the goal is to classify instances into one of several possible classes. In other words, the output variable is a categorical variable with more than two possible values.\n",
    "- For example, in a medical diagnosis problem, the goal might be to classify patients into one of several possible diseases based on their symptoms. Each patient can only have one disease, but there are multiple possible diseases that the patient could have.\n",
    "# populer machine learning algorithms that can be used for multi-class classification problems.\n",
    "- Decision Trees\n",
    "- Random Forest\n",
    "- Support Vector Machines (SVM)\n",
    "- Naive Bayes\n",
    "- Logistic Regression\n",
    "- K-Nearest Neighbors (KNN)\n",
    "- Neural Networks\n",
    "- Naive Bayes."
   ]
  },
  {
   "cell_type": "markdown",
   "id": "2e697e02",
   "metadata": {},
   "source": [
    "# now let's train the different model and measures accuracy of them."
   ]
  },
  {
   "cell_type": "code",
   "execution_count": 31,
   "id": "24c3c1e7",
   "metadata": {},
   "outputs": [],
   "source": [
    "# spliting the dataset\n",
    "\n",
    "X_train = train_dataset.drop(\"prognosis\",axis=1)\n",
    "y_train = train_dataset[\"prognosis\"].copy()\n",
    "X_test = test_dataset.drop(\"prognosis\",axis=1)\n",
    "y_test = test_dataset[\"prognosis\"].copy()"
   ]
  },
  {
   "cell_type": "code",
   "execution_count": 53,
   "id": "85ee2ad0",
   "metadata": {},
   "outputs": [],
   "source": [
    "# list used for accurecy and cross validation plot\n",
    "\n",
    "model_list=[]\n",
    "accuracy_list= []\n",
    "cv_list=[]\n"
   ]
  },
  {
   "cell_type": "markdown",
   "id": "cb7635a8",
   "metadata": {},
   "source": [
    "# random forest model"
   ]
  },
  {
   "cell_type": "code",
   "execution_count": 54,
   "id": "70c9e324",
   "metadata": {},
   "outputs": [],
   "source": [
    "# loading library\n",
    "from sklearn.ensemble import RandomForestClassifier\n",
    "from sklearn.metrics import accuracy_score\n",
    "from sklearn.model_selection import cross_val_score"
   ]
  },
  {
   "cell_type": "code",
   "execution_count": 56,
   "id": "c789ad0d",
   "metadata": {},
   "outputs": [
    {
     "name": "stdout",
     "output_type": "stream",
     "text": [
      "Accuracy:  0.9761904761904762\n"
     ]
    },
    {
     "name": "stderr",
     "output_type": "stream",
     "text": [
      "C:\\Users\\user\\AppData\\Roaming\\Python\\Python310\\site-packages\\sklearn\\model_selection\\_split.py:700: UserWarning: The least populated class in y has only 1 members, which is less than n_splits=5.\n",
      "  warnings.warn(\n"
     ]
    },
    {
     "name": "stdout",
     "output_type": "stream",
     "text": [
      "cross validation scores:  0.9836594394500265\n"
     ]
    }
   ],
   "source": [
    "# initialize and train the random forest model\n",
    "rf_model = RandomForestClassifier()\n",
    "rf_model.fit(X_train,y_train)\n",
    "\n",
    "# make prediction on test data\n",
    "y_pred = rf_model.predict(X_test)\n",
    "\n",
    "# calculate the accuracy of model\n",
    "accuracy_rf = accuracy_score(y_test,y_pred)\n",
    "print(\"Accuracy: \",accuracy_rf)\n",
    "\n",
    "# perform cross validation score\n",
    "scores_rf = cross_val_score(rf_model, X_train,y_train, cv=5)\n",
    "print(\"cross validation scores: \", scores_rf.mean())\n",
    "\n",
    "# adding them in the list for plot\n",
    "model_list.append(\"RF\")\n",
    "accuracy_list.append(accuracy_rf)\n",
    "cv_list.append(scores_rf)"
   ]
  },
  {
   "cell_type": "code",
   "execution_count": null,
   "id": "cf5e9a59",
   "metadata": {},
   "outputs": [],
   "source": []
  },
  {
   "cell_type": "markdown",
   "id": "25796cde",
   "metadata": {},
   "source": [
    "# Decision tree model"
   ]
  },
  {
   "cell_type": "code",
   "execution_count": 57,
   "id": "4f7088a7",
   "metadata": {},
   "outputs": [],
   "source": [
    "from sklearn.tree import DecisionTreeClassifier"
   ]
  },
  {
   "cell_type": "code",
   "execution_count": 63,
   "id": "0d2d5923",
   "metadata": {},
   "outputs": [
    {
     "name": "stdout",
     "output_type": "stream",
     "text": [
      "accuracy: 0.9761904761904762\n",
      "cv score:  0.6107879428873612\n"
     ]
    },
    {
     "name": "stderr",
     "output_type": "stream",
     "text": [
      "C:\\Users\\user\\AppData\\Roaming\\Python\\Python310\\site-packages\\sklearn\\model_selection\\_split.py:700: UserWarning: The least populated class in y has only 1 members, which is less than n_splits=5.\n",
      "  warnings.warn(\n"
     ]
    }
   ],
   "source": [
    "# initialize and train the model\n",
    "dt_model = DecisionTreeClassifier()\n",
    "dt_model.fit(X_train,y_train)\n",
    "\n",
    "# make prediction on test data\n",
    "y_pred= dt_model.predict(X_test)\n",
    "\n",
    "# calculating the accuracy of model\n",
    "accuracy_dt = accuracy_score(y_test,y_pred)\n",
    "print(\"accuracy:\",accuracy_dt)\n",
    "\n",
    "# perform cross validation score\n",
    "score_dt= cross_val_score(dt_model,X_train,y_train, cv=5)\n",
    "print(\"cv score: \", score_dt.mean())\n",
    "\n",
    "# adding them in the list for plot\n",
    "model_list.append(\"DT\")\n",
    "accuracy_list.append(accuracy_dt)\n",
    "cv_list.append(score_dt)"
   ]
  },
  {
   "cell_type": "code",
   "execution_count": null,
   "id": "751b7cc0",
   "metadata": {},
   "outputs": [],
   "source": []
  },
  {
   "cell_type": "markdown",
   "id": "37076aa7",
   "metadata": {},
   "source": [
    "# K-Nearest Neighbor Classifier"
   ]
  },
  {
   "cell_type": "code",
   "execution_count": 64,
   "id": "8994104e",
   "metadata": {},
   "outputs": [],
   "source": [
    "from sklearn.neighbors import KNeighborsClassifier"
   ]
  },
  {
   "cell_type": "code",
   "execution_count": 69,
   "id": "7fc043bf",
   "metadata": {},
   "outputs": [
    {
     "name": "stdout",
     "output_type": "stream",
     "text": [
      "accuracy:  0.9761904761904762\n",
      "cv:  0.9902168164992068\n"
     ]
    },
    {
     "name": "stderr",
     "output_type": "stream",
     "text": [
      "C:\\Users\\user\\AppData\\Roaming\\Python\\Python310\\site-packages\\sklearn\\model_selection\\_split.py:700: UserWarning: The least populated class in y has only 1 members, which is less than n_splits=5.\n",
      "  warnings.warn(\n"
     ]
    }
   ],
   "source": [
    "# initialize and train model model\n",
    "kn_model = KNeighborsClassifier()\n",
    "kn_model.fit(X_train,y_train)\n",
    "\n",
    "# predict on test data\n",
    "y_pred = kn_model.predict(X_test)\n",
    "\n",
    "# accuracy of the model\n",
    "accuracy_kn = accuracy_score(y_test,y_pred)\n",
    "print(\"accuracy: \",accuracy_kn)\n",
    "\n",
    "# cross validation of the model\n",
    "cv_kn = cross_val_score(kn_model, X_train,y_train,cv=5)\n",
    "print(\"cv: \",cv_kn.mean())\n",
    "\n",
    "\n",
    "# adding them in the list for plot\n",
    "model_list.append(\"KN\")\n",
    "accuracy_list.append(accuracy_kn)\n",
    "cv_list.append(cv_kn)"
   ]
  },
  {
   "cell_type": "markdown",
   "id": "8c8c7e51",
   "metadata": {},
   "source": [
    "# Support Vector Machines (SVM) model"
   ]
  },
  {
   "cell_type": "code",
   "execution_count": 70,
   "id": "5eec37cc",
   "metadata": {},
   "outputs": [],
   "source": [
    "from sklearn.svm import SVC"
   ]
  },
  {
   "cell_type": "code",
   "execution_count": 75,
   "id": "4028ca6b",
   "metadata": {},
   "outputs": [
    {
     "name": "stdout",
     "output_type": "stream",
     "text": [
      "accuracy:  1.0\n",
      "cv:  0.9902168164992068\n"
     ]
    },
    {
     "name": "stderr",
     "output_type": "stream",
     "text": [
      "C:\\Users\\user\\AppData\\Roaming\\Python\\Python310\\site-packages\\sklearn\\model_selection\\_split.py:700: UserWarning: The least populated class in y has only 1 members, which is less than n_splits=5.\n",
      "  warnings.warn(\n"
     ]
    }
   ],
   "source": [
    "# Initialize and train the model\n",
    "model_svm = SVC()\n",
    "model_svm.fit(X_train,y_train)\n",
    "\n",
    "# predict on the test data\n",
    "y_pred = model_svm.predict(X_test)\n",
    "\n",
    "#accuracy of the model\n",
    "accuracy_svm = accuracy_score(y_test,y_pred)\n",
    "print(\"accuracy: \",accuracy_svm)\n",
    "\n",
    "#cross validation of the model\n",
    "cv_svm = cross_val_score(model_svm,X_train,y_train,cv=5)\n",
    "print(\"cv: \",cv_svm.mean())\n",
    "\n",
    "\n",
    "# adding them in the list for plot\n",
    "model_list.append(\"SVM\")\n",
    "accuracy_list.append(accuracy_svm)\n",
    "cv_list.append(cv_svm)"
   ]
  },
  {
   "cell_type": "markdown",
   "id": "c67bee89",
   "metadata": {},
   "source": [
    "# Logistic Regression Classifier"
   ]
  },
  {
   "cell_type": "code",
   "execution_count": 76,
   "id": "75b2960f",
   "metadata": {},
   "outputs": [],
   "source": [
    "from sklearn.linear_model import LogisticRegression"
   ]
  },
  {
   "cell_type": "code",
   "execution_count": 80,
   "id": "f3984bcc",
   "metadata": {},
   "outputs": [
    {
     "name": "stdout",
     "output_type": "stream",
     "text": [
      "accuracy:  1.0\n"
     ]
    },
    {
     "name": "stderr",
     "output_type": "stream",
     "text": [
      "C:\\Users\\user\\AppData\\Roaming\\Python\\Python310\\site-packages\\sklearn\\model_selection\\_split.py:700: UserWarning: The least populated class in y has only 1 members, which is less than n_splits=5.\n",
      "  warnings.warn(\n"
     ]
    },
    {
     "name": "stdout",
     "output_type": "stream",
     "text": [
      "cv:  0.9967213114754099\n"
     ]
    }
   ],
   "source": [
    "# initialize and train the model\n",
    "model_lr = LogisticRegression()\n",
    "model_lr.fit(X_train,y_train)\n",
    "\n",
    "# predict on test data\n",
    "y_pred = model_lr.predict(X_test)\n",
    "\n",
    "# accuracy of the model\n",
    "accuracy_lr = accuracy_score(y_test,y_pred)\n",
    "print(\"accuracy: \",accuracy_lr)\n",
    "\n",
    "# cross val of the model\n",
    "cv_lr = cross_val_score(model_lr,X_train,y_train,cv=5)\n",
    "print(\"cv: \",cv_lr.mean())\n",
    "\n",
    "# adding them in the list for plot\n",
    "model_list.append(\"LR\")\n",
    "accuracy_list.append(accuracy_lr)\n",
    "cv_list.append(cv_lr)"
   ]
  },
  {
   "cell_type": "markdown",
   "id": "8438478e",
   "metadata": {},
   "source": [
    "# neural network classifier or Multilayer Perceptron Classifier"
   ]
  },
  {
   "cell_type": "code",
   "execution_count": 81,
   "id": "87ddf4d1",
   "metadata": {},
   "outputs": [],
   "source": [
    "from sklearn.neural_network import MLPClassifier"
   ]
  },
  {
   "cell_type": "code",
   "execution_count": 85,
   "id": "401a8d4c",
   "metadata": {},
   "outputs": [
    {
     "name": "stderr",
     "output_type": "stream",
     "text": [
      "C:\\Users\\user\\AppData\\Roaming\\Python\\Python310\\site-packages\\sklearn\\neural_network\\_multilayer_perceptron.py:686: ConvergenceWarning: Stochastic Optimizer: Maximum iterations (50) reached and the optimization hasn't converged yet.\n",
      "  warnings.warn(\n",
      "C:\\Users\\user\\AppData\\Roaming\\Python\\Python310\\site-packages\\sklearn\\model_selection\\_split.py:700: UserWarning: The least populated class in y has only 1 members, which is less than n_splits=5.\n",
      "  warnings.warn(\n",
      "C:\\Users\\user\\AppData\\Roaming\\Python\\Python310\\site-packages\\sklearn\\neural_network\\_multilayer_perceptron.py:686: ConvergenceWarning: Stochastic Optimizer: Maximum iterations (50) reached and the optimization hasn't converged yet.\n",
      "  warnings.warn(\n"
     ]
    },
    {
     "name": "stdout",
     "output_type": "stream",
     "text": [
      "accuracy:  0.7142857142857143\n"
     ]
    },
    {
     "name": "stderr",
     "output_type": "stream",
     "text": [
      "C:\\Users\\user\\AppData\\Roaming\\Python\\Python310\\site-packages\\sklearn\\neural_network\\_multilayer_perceptron.py:686: ConvergenceWarning: Stochastic Optimizer: Maximum iterations (50) reached and the optimization hasn't converged yet.\n",
      "  warnings.warn(\n",
      "C:\\Users\\user\\AppData\\Roaming\\Python\\Python310\\site-packages\\sklearn\\neural_network\\_multilayer_perceptron.py:686: ConvergenceWarning: Stochastic Optimizer: Maximum iterations (50) reached and the optimization hasn't converged yet.\n",
      "  warnings.warn(\n"
     ]
    },
    {
     "name": "stdout",
     "output_type": "stream",
     "text": [
      "cv:  0.6373347435219461\n"
     ]
    },
    {
     "name": "stderr",
     "output_type": "stream",
     "text": [
      "C:\\Users\\user\\AppData\\Roaming\\Python\\Python310\\site-packages\\sklearn\\neural_network\\_multilayer_perceptron.py:686: ConvergenceWarning: Stochastic Optimizer: Maximum iterations (50) reached and the optimization hasn't converged yet.\n",
      "  warnings.warn(\n",
      "C:\\Users\\user\\AppData\\Roaming\\Python\\Python310\\site-packages\\sklearn\\neural_network\\_multilayer_perceptron.py:686: ConvergenceWarning: Stochastic Optimizer: Maximum iterations (50) reached and the optimization hasn't converged yet.\n",
      "  warnings.warn(\n"
     ]
    }
   ],
   "source": [
    "# initialize and train the model\n",
    "model_nn = MLPClassifier(hidden_layer_sizes=(32, 32, 32), activation='relu', solver='adam', max_iter=50)\n",
    "model_nn.fit(X_train,y_train)\n",
    "\n",
    "# predict on test data\n",
    "y_pred = model_nn.predict(X_test)\n",
    "\n",
    "#accuracy of the model\n",
    "accuracy_nn = accuracy_score(y_test,y_pred)\n",
    "print(\"accuracy: \",accuracy_nn)\n",
    "\n",
    "#cross validation of the model\n",
    "cv_nn = cross_val_score(model_nn,X_train,y_train,cv=5)\n",
    "print(\"cv: \",cv_nn.mean())\n",
    "\n",
    "# adding them in the list for plot\n",
    "model_list.append(\"NN\")\n",
    "accuracy_list.append(accuracy_nn)\n",
    "cv_list.append(cv_nn)"
   ]
  },
  {
   "cell_type": "markdown",
   "id": "0422e60a",
   "metadata": {},
   "source": [
    "# Accuracy Comparison Plot for all the model"
   ]
  },
  {
   "cell_type": "code",
   "execution_count": 90,
   "id": "fce9dca5",
   "metadata": {},
   "outputs": [
    {
     "data": {
      "image/png": "[encoded data removed]",
      "text/plain": [
       "<Figure size 1000x1000 with 1 Axes>"
      ]
     },
     "metadata": {},
     "output_type": "display_data"
    }
   ],
   "source": [
    "fig = plt.figure(figsize=(10, 10))\n",
    "ax = fig.add_subplot()\n",
    "plt.title(\"model vs accuracy\")\n",
    "plt.xlabel(\"Model\")\n",
    "plt.ylabel(\"accuracy\")\n",
    "plt.bar(model_list,accuracy_list)\n",
    "\n",
    "plt.show()"
   ]
  },
  {
   "cell_type": "code",
   "execution_count": null,
   "id": "59be8972",
   "metadata": {},
   "outputs": [],
   "source": []
  }
 ],
 "metadata": {
  "kernelspec": {
   "display_name": "Python 3 (ipykernel)",
   "language": "python",
   "name": "python3"
  },
  "language_info": {
   "codemirror_mode": {
    "name": "ipython",
    "version": 3
   },
   "file_extension": ".py",
   "mimetype": "text/x-python",
   "name": "python",
   "nbconvert_exporter": "python",
   "pygments_lexer": "ipython3",
   "version": "3.10.10"
  }
 },
 "nbformat": 4,
 "nbformat_minor": 5
}
